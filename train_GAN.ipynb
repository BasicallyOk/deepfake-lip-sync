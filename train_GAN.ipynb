{
 "cells": [
  {
   "cell_type": "code",
   "execution_count": 1,
   "metadata": {},
   "outputs": [
    {
     "name": "stderr",
     "output_type": "stream",
     "text": [
      "2024-05-22 15:20:35.753411: E external/local_xla/xla/stream_executor/cuda/cuda_dnn.cc:9261] Unable to register cuDNN factory: Attempting to register factory for plugin cuDNN when one has already been registered\n",
      "2024-05-22 15:20:35.753444: E external/local_xla/xla/stream_executor/cuda/cuda_fft.cc:607] Unable to register cuFFT factory: Attempting to register factory for plugin cuFFT when one has already been registered\n",
      "2024-05-22 15:20:35.754671: E external/local_xla/xla/stream_executor/cuda/cuda_blas.cc:1515] Unable to register cuBLAS factory: Attempting to register factory for plugin cuBLAS when one has already been registered\n",
      "2024-05-22 15:20:35.761499: I tensorflow/core/platform/cpu_feature_guard.cc:182] This TensorFlow binary is optimized to use available CPU instructions in performance-critical operations.\n",
      "To enable the following instructions: AVX2 FMA, in other operations, rebuild TensorFlow with the appropriate compiler flags.\n",
      "2024-05-22 15:20:36.406282: W tensorflow/compiler/tf2tensorrt/utils/py_utils.cc:38] TF-TRT Warning: Could not find TensorRT\n",
      "2024-05-22 15:20:37.303356: I external/local_xla/xla/stream_executor/cuda/cuda_executor.cc:901] successful NUMA node read from SysFS had negative value (-1), but there must be at least one NUMA node, so returning NUMA node zero. See more at https://github.com/torvalds/linux/blob/v6.0/Documentation/ABI/testing/sysfs-bus-pci#L344-L355\n",
      "2024-05-22 15:20:37.343415: I external/local_xla/xla/stream_executor/cuda/cuda_executor.cc:901] successful NUMA node read from SysFS had negative value (-1), but there must be at least one NUMA node, so returning NUMA node zero. See more at https://github.com/torvalds/linux/blob/v6.0/Documentation/ABI/testing/sysfs-bus-pci#L344-L355\n",
      "2024-05-22 15:20:37.343648: I external/local_xla/xla/stream_executor/cuda/cuda_executor.cc:901] successful NUMA node read from SysFS had negative value (-1), but there must be at least one NUMA node, so returning NUMA node zero. See more at https://github.com/torvalds/linux/blob/v6.0/Documentation/ABI/testing/sysfs-bus-pci#L344-L355\n",
      "2024-05-22 15:20:37.344854: I external/local_xla/xla/stream_executor/cuda/cuda_executor.cc:901] successful NUMA node read from SysFS had negative value (-1), but there must be at least one NUMA node, so returning NUMA node zero. See more at https://github.com/torvalds/linux/blob/v6.0/Documentation/ABI/testing/sysfs-bus-pci#L344-L355\n",
      "2024-05-22 15:20:37.345052: I external/local_xla/xla/stream_executor/cuda/cuda_executor.cc:901] successful NUMA node read from SysFS had negative value (-1), but there must be at least one NUMA node, so returning NUMA node zero. See more at https://github.com/torvalds/linux/blob/v6.0/Documentation/ABI/testing/sysfs-bus-pci#L344-L355\n",
      "2024-05-22 15:20:37.345227: I external/local_xla/xla/stream_executor/cuda/cuda_executor.cc:901] successful NUMA node read from SysFS had negative value (-1), but there must be at least one NUMA node, so returning NUMA node zero. See more at https://github.com/torvalds/linux/blob/v6.0/Documentation/ABI/testing/sysfs-bus-pci#L344-L355\n",
      "2024-05-22 15:20:37.410224: I external/local_xla/xla/stream_executor/cuda/cuda_executor.cc:901] successful NUMA node read from SysFS had negative value (-1), but there must be at least one NUMA node, so returning NUMA node zero. See more at https://github.com/torvalds/linux/blob/v6.0/Documentation/ABI/testing/sysfs-bus-pci#L344-L355\n",
      "2024-05-22 15:20:37.410439: I external/local_xla/xla/stream_executor/cuda/cuda_executor.cc:901] successful NUMA node read from SysFS had negative value (-1), but there must be at least one NUMA node, so returning NUMA node zero. See more at https://github.com/torvalds/linux/blob/v6.0/Documentation/ABI/testing/sysfs-bus-pci#L344-L355\n",
      "2024-05-22 15:20:37.410795: I external/local_xla/xla/stream_executor/cuda/cuda_executor.cc:901] successful NUMA node read from SysFS had negative value (-1), but there must be at least one NUMA node, so returning NUMA node zero. See more at https://github.com/torvalds/linux/blob/v6.0/Documentation/ABI/testing/sysfs-bus-pci#L344-L355\n",
      "2024-05-22 15:20:37.410939: I tensorflow/core/common_runtime/gpu/gpu_device.cc:1929] Created device /job:localhost/replica:0/task:0/device:GPU:0 with 5164 MB memory:  -> device: 0, name: NVIDIA GeForce RTX 3070 Ti, pci bus id: 0000:0a:00.0, compute capability: 8.6\n"
     ]
    }
   ],
   "source": [
    "# essentials\n",
    "import numpy as np\n",
    "import tensorflow as tf\n",
    "from tensorflow import keras\n",
    "from utils.hparams import hparams as hp \n",
    "import utils.audio as audio\n",
    "\n",
    "from models import decoder, encoder, gan\n",
    "\n",
    "# misc\n",
    "import os\n",
    "import ntpath\n",
    "import matplotlib.pyplot as plt\n",
    "import random\n",
    "from datetime import datetime\n",
    "import io\n"
   ]
  },
  {
   "cell_type": "markdown",
   "metadata": {},
   "source": [
    "# Constants"
   ]
  },
  {
   "cell_type": "code",
   "execution_count": 2,
   "metadata": {},
   "outputs": [],
   "source": [
    "from dotenv import load_dotenv\n",
    "\n",
    "load_dotenv() # allow using system specific data\n",
    "\n",
    "CURRENT_EPOCH = 0 # This is to combat kernel crashing \n",
    "EPOCHS = 20000\n",
    "BATCH_SIZE = 100\n",
    "TEST_BATCH_SIZE = 10\n",
    "BATCH_DATA_PATH = os.environ.get(\"BATCH_DATA_PATH\")\n",
    "GENERATED_IMAGES_PATH = os.environ.get(\"GENERATED_IMAGES_PATH\")\n",
    "SAVED_MODELS_PATH = os.environ.get(\"SAVED_MODELS_PATH\")\n",
    "DATASET_PATH = os.environ.get(\"DATASET_PATH\")\n",
    "TEST_DATASET_PATH = os.environ.get(\"TEST_DATASET_PATH\")\n",
    "\n",
    "# Image and audio settings, must be verified beforehands\n",
    "IMAGE_SHAPE = (64, 64, 3)\n",
    "AUDIO_SPECTROGRAM_SHAPE = (4, 601, 1)\n",
    "MASKED_IMAGE_SHAPE = (32, 64, 3)\n",
    "# most videos are 10 seconds, so this number line up with the expected frame rate\n",
    "AVERAGE_FRAME_PER_VIDEO = 217 # number of frames / number of audio files\n",
    "\n",
    "MODEL_NAME = os.environ.get(\"MODEL_NAME\")"
   ]
  },
  {
   "cell_type": "markdown",
   "metadata": {},
   "source": [
    "# Load Batch Data\n",
    "### Pre-determined randomized batches to avoid wasting time randomizing it on the fly.\n",
    "`BATCH_DATA` is structured as a 3D array (dictionary here but the key is the index so same thing) of size `EPOCHS*BATCH_SIZE*2`.\\\n",
    "Every epoch, `BATCH_DATA` is called to fetch a certain epoch, which returns the array of size `BATCH_SIZE*2`.\\\n",
    "The 2 names corresponds to the name of the image, as well as the reference, where the image is the one we mask and generate based on, while the reference is the reference image of the same face"
   ]
  },
  {
   "cell_type": "markdown",
   "metadata": {},
   "source": [
    "# Model Input Pipeline"
   ]
  },
  {
   "cell_type": "markdown",
   "metadata": {},
   "source": [
    "Utilities"
   ]
  },
  {
   "cell_type": "code",
   "execution_count": 3,
   "metadata": {},
   "outputs": [],
   "source": [
    "def original_image_path_gen(folder_path):\n",
    "    for file in os.listdir(folder_path):\n",
    "        file_path = os.path.join(folder_path, file)\n",
    "        if os.path.isfile(file_path):\n",
    "            yield file_path"
   ]
  },
  {
   "cell_type": "code",
   "execution_count": 4,
   "metadata": {},
   "outputs": [],
   "source": [
    "def ref_image_path_gen(folder_path):\n",
    "    \"\"\"\n",
    "    Generates reference frame path for each frame in the folder.\n",
    "    NOTE: this might not work as intended if there are more than 1 person in the video.\n",
    "    Assumes os.listdir returns the files in the same order (should be the case in most systems).\n",
    "    Returns: tuple\n",
    "        path: the path to the reference image\n",
    "        modify: whether to modify the image (if a reference cannot be found)\n",
    "    \"\"\"\n",
    "    # not a fan of the loop, but it is what it is\n",
    "    for file in os.listdir(folder_path):\n",
    "        path = os.path.join(folder_path, file)\n",
    "        if os.path.isfile(path):\n",
    "            counter = 0\n",
    "            video_name, frame_index = file.split(\"_\") # the frame file is <source_video>_<frame_index>\n",
    "            frame_index = int(frame_index.split(\".\")[0]) # remove the file extension\n",
    "            ref_frame_path = path\n",
    "            ref_frame_index = frame_index\n",
    "            # find a valid reference frame of the same person. Assumes each video is of a single person.\n",
    "            while ref_frame_index == frame_index or not os.path.exists(ref_frame_path):\n",
    "                ref_frame_index = random.randint(0, AVERAGE_FRAME_PER_VIDEO - 1)\n",
    "                ref_frame_path = os.path.join(folder_path, video_name + \"_\" + str(ref_frame_index) + \".png\")\n",
    "                counter+=1 # stop once counter reaches 10\n",
    "                if counter >= 10:\n",
    "                    yield path, True # return the same image, but we'll flip it\n",
    "            yield ref_frame_path, False"
   ]
  },
  {
   "cell_type": "code",
   "execution_count": 5,
   "metadata": {},
   "outputs": [],
   "source": [
    "def crop_audio_window(spectrogram, start_frame_num):\n",
    "    \"\"\"\n",
    "    Get the audio spectrogram window corresponding to the frame.\n",
    "    \"\"\"\n",
    "    # I did some testing, there are 8 samples per second\n",
    "    start_idx = int(8 * (start_frame_num // hp.fps))\n",
    "    \n",
    "    end_idx = start_idx + 4 # half a second to provide some padding\n",
    "    if (spectrogram.shape[0] < end_idx):\n",
    "        return spectrogram[-4:, :]\n",
    "\n",
    "    return spectrogram[start_idx : end_idx, :]"
   ]
  },
  {
   "cell_type": "code",
   "execution_count": 6,
   "metadata": {},
   "outputs": [],
   "source": [
    "def load_audio_data(image_path, dataset_path):\n",
    "    \"\"\"\n",
    "    Load the audio data from the file.\n",
    "    \"\"\"\n",
    "    image_path = image_path.numpy().decode(\"utf-8\")\n",
    "    dataset_path = dataset_path.numpy().decode(\"utf-8\")\n",
    "    frame_name = ntpath.basename(image_path) # get the name without the path (should also work on windows)\n",
    "    video_name, frame_index = frame_name.split(\"_\") # the frame file is <source_video>_<frame_index>\n",
    "    frame_index = int(frame_index.split(\".\")[0]) # remove the file extension\n",
    "\n",
    "    audio_path = os.path.join(dataset_path, \"audio\", video_name + \".wav\")\n",
    "\n",
    "    wav = audio.load_wav(audio_path, hp.sample_rate)\n",
    "    # get the spectrogram, seems inefficient to do this every time\n",
    "    spectrogram = audio.melspectrogram(wav)\n",
    "    spectrogram_window = crop_audio_window(spectrogram, frame_index)\n",
    "    spectrogram_window = tf.expand_dims(spectrogram_window, axis=-1) # add channel dimension\n",
    "    spectrogram_window = tf.convert_to_tensor(spectrogram_window)\n",
    "    return spectrogram_window"
   ]
  },
  {
   "cell_type": "code",
   "execution_count": 7,
   "metadata": {},
   "outputs": [],
   "source": [
    "def load_image(image_path, modify):\n",
    "    \"\"\"\n",
    "    Load the image from the file.\n",
    "    Args:\n",
    "        image_path: the path to the image to load\n",
    "        modify: whether to modify this image TODO\n",
    "    \"\"\"\n",
    "    image_path = image_path.numpy().decode(\"utf-8\")\n",
    "        \n",
    "    raw = tf.io.read_file(image_path)\n",
    "    image = tf.image.decode_png(raw, channels=3)\n",
    "\n",
    "    image = tf.cast(image, tf.float32) / 255. # [0 - 1] range\n",
    "\n",
    "    if modify:\n",
    "        # add any transformations here\n",
    "        image = tf.image.flip_left_right(image)\n",
    "\n",
    "    return image"
   ]
  },
  {
   "cell_type": "code",
   "execution_count": 8,
   "metadata": {},
   "outputs": [],
   "source": [
    "def load_masked_image(original_image):\n",
    "    # crop out bottom half\n",
    "    masked_image = original_image[:32, :, :] # strange bug where the height is a [3] tensor\n",
    "    return masked_image"
   ]
  },
  {
   "cell_type": "markdown",
   "metadata": {},
   "source": [
    "Creating the Dataset"
   ]
  },
  {
   "cell_type": "code",
   "execution_count": 9,
   "metadata": {},
   "outputs": [],
   "source": [
    "def batcher_from_directory(batch_size:int, dataset_path:str, shuffle=False,seed=None) -> tf.data.Dataset:\n",
    "    \"\"\"\n",
    "    Return a tensorflow Dataset object that returns images and spectrograms as required.\n",
    "    Partly inspired by https://github.com/keras-team/keras/blob/v3.3.3/keras/src/utils/image_dataset_utils.py\n",
    "    \n",
    "    Args:\n",
    "        batch_size: The batch size.\n",
    "        dataset_path: The path to the dataset folder which must contain the image folder and audio folder.\n",
    "        shuffle: Whether to shuffle the dataset. Default to False.\n",
    "        seed: The seed for the shuffle. Default to None.\n",
    "    \"\"\"\n",
    "    image_dataset_path = os.path.join(dataset_path, \"image\")\n",
    "    # create the foundation datasets\n",
    "    og_dataset = tf.data.Dataset.from_generator(lambda: original_image_path_gen(image_dataset_path), \n",
    "                                                output_signature=tf.TensorSpec(shape=(), dtype=tf.string))\n",
    "    og_dataset = og_dataset.repeat(None) # repeat indefinitely\n",
    "    ref_dataset = tf.data.Dataset.from_generator(lambda: ref_image_path_gen(image_dataset_path),\n",
    "                                                 output_signature=(tf.TensorSpec(shape=(), dtype=tf.string), \n",
    "                                                                   tf.TensorSpec(shape=(), dtype=tf.bool)))\n",
    "    ref_dataset = ref_dataset.repeat(None) # repeat indefinitely\n",
    "\n",
    "    # create the input datasets\n",
    "    og_image_dataset = og_dataset.map(lambda x: tf.py_function(load_image, [x, tf.convert_to_tensor(False, dtype=tf.bool)], tf.float32), \n",
    "                                        num_parallel_calls=tf.data.AUTOTUNE)\n",
    "    masked_image_dataset = og_image_dataset.map(lambda x: tf.py_function(load_masked_image, [x], tf.float32),\n",
    "                                        num_parallel_calls=tf.data.AUTOTUNE)\n",
    "    ref_image_dataset = ref_dataset.map(lambda x, y: tf.py_function(load_image, [x, y], tf.float32), \n",
    "                                        num_parallel_calls=tf.data.AUTOTUNE)\n",
    "    audio_spec_dataset = og_dataset.map(lambda x: tf.py_function(load_audio_data, [x, dataset_path], tf.float64),\n",
    "                                        num_parallel_calls=tf.data.AUTOTUNE)\n",
    "    unsync_spec_dataset = ref_dataset.map(lambda x, _: tf.py_function(load_audio_data, [x, dataset_path], tf.float64),\n",
    "                                        num_parallel_calls=tf.data.AUTOTUNE)\n",
    "    \n",
    "    # ensure shape as tensorflow does not accept unknown shapes\n",
    "    og_image_dataset = og_image_dataset.map(lambda x: tf.ensure_shape(x, IMAGE_SHAPE))\n",
    "    masked_image_dataset = masked_image_dataset.map(lambda x: tf.ensure_shape(x, MASKED_IMAGE_SHAPE))\n",
    "    ref_image_dataset = ref_image_dataset.map(lambda x: tf.ensure_shape(x, IMAGE_SHAPE))\n",
    "    audio_spec_dataset = audio_spec_dataset.map(lambda x: tf.ensure_shape(x, AUDIO_SPECTROGRAM_SHAPE))\n",
    "    unsync_spec_dataset = unsync_spec_dataset.map(lambda x: tf.ensure_shape(x, AUDIO_SPECTROGRAM_SHAPE))\n",
    "    \n",
    "    # multi input using https://discuss.tensorflow.org/t/train-a-model-on-multiple-input-dataset/17829/4\n",
    "    full_dataset = tf.data.Dataset.zip((masked_image_dataset, ref_image_dataset, audio_spec_dataset, unsync_spec_dataset), og_image_dataset)\n",
    "    # if shuffle:\n",
    "    #     full_dataset = full_dataset.shuffle(buffer_size=batch_size * 8, seed=seed) # not sure why buffer size is such\n",
    "    \n",
    "    # batch\n",
    "    full_dataset = full_dataset.batch(batch_size=batch_size)\n",
    "    \n",
    "    return full_dataset"
   ]
  },
  {
   "cell_type": "markdown",
   "metadata": {},
   "source": [
    "# Dataset\n",
    "Batch generator technically"
   ]
  },
  {
   "cell_type": "code",
   "execution_count": 10,
   "metadata": {},
   "outputs": [
    {
     "data": {
      "text/plain": [
       "((TensorSpec(shape=(None, 32, 64, 3), dtype=tf.float32, name=None),\n",
       "  TensorSpec(shape=(None, 64, 64, 3), dtype=tf.float32, name=None),\n",
       "  TensorSpec(shape=(None, 4, 601, 1), dtype=tf.float64, name=None),\n",
       "  TensorSpec(shape=(None, 4, 601, 1), dtype=tf.float64, name=None)),\n",
       " TensorSpec(shape=(None, 64, 64, 3), dtype=tf.float32, name=None))"
      ]
     },
     "execution_count": 10,
     "metadata": {},
     "output_type": "execute_result"
    }
   ],
   "source": [
    "x_train = batcher_from_directory(hp.batch_size, DATASET_PATH)\n",
    "x_test = batcher_from_directory(TEST_BATCH_SIZE, TEST_DATASET_PATH)\n",
    "x_test.element_spec"
   ]
  },
  {
   "cell_type": "code",
   "execution_count": 11,
   "metadata": {},
   "outputs": [],
   "source": [
    "# test the batcher\n",
    "x_test_iter = iter(x_test)"
   ]
  },
  {
   "cell_type": "code",
   "execution_count": 12,
   "metadata": {},
   "outputs": [
    {
     "name": "stdout",
     "output_type": "stream",
     "text": [
      "Shape of original image:  (64, 64, 3)\n",
      "Shape of masked image:  (32, 64, 3)\n",
      "Shape of spectrogram window:  (4, 601, 1)\n"
     ]
    },
    {
     "data": {
      "text/plain": [
       "(-0.5, 63.5, 63.5, -0.5)"
      ]
     },
     "execution_count": 12,
     "metadata": {},
     "output_type": "execute_result"
    },
    {
     "data": {
      "image/png": "[encoded data removed]",
      "text/plain": [
       "<Figure size 1000x1000 with 3 Axes>"
      ]
     },
     "metadata": {},
     "output_type": "display_data"
    }
   ],
   "source": [
    "x, original_image = next(x_test_iter)\n",
    "masked_image, ref_image, spectrogram_window, _ = x\n",
    "\n",
    "print(\"Shape of original image: \", original_image[0].shape)\n",
    "print(\"Shape of masked image: \", masked_image[0].shape)\n",
    "print(\"Shape of spectrogram window: \", spectrogram_window[0].shape)\n",
    "\n",
    "# plot the images\n",
    "plt.figure(figsize=(10, 10))\n",
    "plt.subplot(1, 3, 1)\n",
    "plt.imshow(masked_image[0])\n",
    "plt.title(\"Masked Image\")\n",
    "plt.axis(\"off\")\n",
    "plt.subplot(1, 3, 2)\n",
    "plt.imshow(ref_image[0])\n",
    "plt.title(\"Reference Image\")\n",
    "plt.axis(\"off\")\n",
    "plt.subplot(1, 3, 3)\n",
    "plt.imshow(original_image[0])\n",
    "plt.title(\"Original Image\")\n",
    "plt.axis(\"off\")"
   ]
  },
  {
   "cell_type": "markdown",
   "metadata": {},
   "source": [
    "# Model Definition"
   ]
  },
  {
   "cell_type": "code",
   "execution_count": 13,
   "metadata": {},
   "outputs": [],
   "source": [
    "masked_id_encoder = encoder.masked_id_encoder\n",
    "identity_encoder = encoder.identity_encoder\n",
    "audio_encoder = encoder.audio_encoder\n",
    "image_decoder = decoder.image_decoder\n",
    "\n",
    "identity_encoder_disc = encoder.identity_encoder_disc\n",
    "audio_encoder_disc = encoder.audio_encoder_disc\n",
    "\n",
    "generator = gan.Generator(masked_id_encoder, identity_encoder, audio_encoder, image_decoder)\n",
    "discriminator = gan.Discriminator(identity_encoder_disc, audio_encoder_disc)\n",
    "gan = gan.DeepfakeGAN(generator, discriminator)\n",
    "gan.compile(\n",
    "    d_optimizer=keras.optimizers.Adam(learning_rate=hp.disc_initial_learning_rate),\n",
    "    g_optimizer=keras.optimizers.Adam(learning_rate=1e-4),\n",
    "    d_loss_fn=keras.losses.BinaryCrossentropy(from_logits=True),\n",
    "    g_loss_fn=keras.losses.MeanAbsoluteError(),\n",
    ")"
   ]
  },
  {
   "cell_type": "markdown",
   "metadata": {},
   "source": [
    "# Train"
   ]
  },
  {
   "cell_type": "code",
   "execution_count": 14,
   "metadata": {},
   "outputs": [],
   "source": [
    "# Clear out prior logging data.\n",
    "!rm -rf logs/image\n",
    "\n",
    "test_data = next(x_test_iter)\n",
    "\n",
    "logdir = \"logs/image/\" + datetime.now().strftime(\"%Y%m%d-%H%M%S\")\n",
    "# Define the basic TensorBoard callback.\n",
    "tensorboard_callback = keras.callbacks.TensorBoard(log_dir=logdir)\n",
    "file_writer_cm = tf.summary.create_file_writer(logdir + '/cm')\n",
    "\n",
    "def plot_to_image(figure):\n",
    "  \"\"\"Converts the matplotlib plot specified by 'figure' to a PNG image and\n",
    "  returns it. The supplied figure is closed and inaccessible after this call.\"\"\"\n",
    "  # Save the plot to a PNG in memory.\n",
    "  buf = io.BytesIO()\n",
    "  plt.savefig(buf, format='png')\n",
    "  # Closing the figure prevents it from being displayed directly inside\n",
    "  # the notebook.\n",
    "  plt.close(figure)\n",
    "  buf.seek(0)\n",
    "  # Convert PNG buffer to TF image\n",
    "  image = tf.image.decode_png(buf.getvalue(), channels=4)\n",
    "  # Add the batch dimension\n",
    "  image = tf.expand_dims(image, 0)\n",
    "  return image\n",
    "\n",
    "def test_generate(epoch, logs):\n",
    "  # if epoch % 10 != 0: # only run every 10 epochs\n",
    "  #   return \n",
    "  \n",
    "  gan.save_weights(\"trained_models/unsync1000.h5\")\n",
    "\n",
    "  x, original_images = test_data\n",
    "  masked_image, ref_image, spectrogram_window, _ = x\n",
    "\n",
    "  # This is so all layers run in inference mode (batchnorm).\n",
    "  predictions  = gan.generator((masked_image, ref_image, spectrogram_window))\n",
    "  d = gan.discriminator((predictions, spectrogram_window))\n",
    "  if tf.is_symbolic_tensor(predictions):\n",
    "    return\n",
    "\n",
    "  # if from_tensor:\n",
    "  #   original_images = original_images.numpy()\n",
    "  #   masked_image = masked_image.numpy()\n",
    "  #   # ref_image = ref_image.numpy()\n",
    "  #   # spectrogram_window = spectrogram_window.numpy()\n",
    "  #   predictions = predictions.numpy()\n",
    "  #   d = d.numpy()\n",
    "\n",
    "  batch_size = original_images.shape[0]\n",
    "\n",
    "  figure = plt.figure(figsize=(15, 6))\n",
    "  for i in range(batch_size):\n",
    "    # display original\n",
    "    ax = plt.subplot(3, batch_size, i + 1)\n",
    "    plt.imshow(original_images[i])\n",
    "    plt.title(\"original\")\n",
    "    plt.gray()\n",
    "    ax.get_xaxis().set_visible(False)\n",
    "    ax.get_yaxis().set_visible(False)\n",
    "\n",
    "    # display reconstruction\n",
    "    ax = plt.subplot(3, batch_size, i + 1 + batch_size)\n",
    "    plt.imshow(ref_image[i])\n",
    "    plt.title(\"reference\") # only show 3 floating points \n",
    "    plt.gray()\n",
    "    ax.get_xaxis().set_visible(False)\n",
    "    ax.get_yaxis().set_visible(False)\n",
    "\n",
    "    # display reconstruction\n",
    "    ax = plt.subplot(3, batch_size, i + 1 + 2*batch_size)\n",
    "    plt.imshow(predictions[i])\n",
    "    plt.title(\"d=\" + str(d[i].numpy()[0])) # only show 3 floating points \n",
    "    plt.gray()\n",
    "    ax.get_xaxis().set_visible(False)\n",
    "    ax.get_yaxis().set_visible(False)\n",
    "\n",
    "  with file_writer_cm.as_default():\n",
    "    tf.summary.image(\"Test Generation\", plot_to_image(figure), step=epoch)"
   ]
  },
  {
   "cell_type": "code",
   "execution_count": 15,
   "metadata": {},
   "outputs": [],
   "source": [
    "# Define the per-epoch callback.\n",
    "cm_callback = keras.callbacks.LambdaCallback(on_epoch_end=test_generate)"
   ]
  },
  {
   "cell_type": "code",
   "execution_count": 16,
   "metadata": {},
   "outputs": [
    {
     "name": "stderr",
     "output_type": "stream",
     "text": [
      "2024-05-22 15:20:50.063693: I external/local_xla/xla/stream_executor/cuda/cuda_dnn.cc:454] Loaded cuDNN version 8904\n",
      "2024-05-22 15:20:53.162510: I external/local_xla/xla/service/service.cc:168] XLA service 0x70027ea024f0 initialized for platform CUDA (this does not guarantee that XLA will be used). Devices:\n",
      "2024-05-22 15:20:53.162536: I external/local_xla/xla/service/service.cc:176]   StreamExecutor device (0): NVIDIA GeForce RTX 3070 Ti, Compute Capability 8.6\n",
      "2024-05-22 15:20:53.166978: I tensorflow/compiler/mlir/tensorflow/utils/dump_mlir_util.cc:269] disabling MLIR crash reproducer, set env var `MLIR_CRASH_REPRODUCER_DIRECTORY` to enable.\n",
      "WARNING: All log messages before absl::InitializeLog() is called are written to STDERR\n",
      "I0000 00:00:1716405653.241730   37163 device_compiler.h:186] Compiled cluster using XLA!  This line is logged at most once for the lifetime of the process.\n"
     ]
    },
    {
     "name": "stdout",
     "output_type": "stream",
     "text": [
      "100/100 [==============================] - 231s 2s/step - gen_loss: 0.1319 - disc_loss: 0.6543\n"
     ]
    }
   ],
   "source": [
    "gan.load_weights(\"trained_models/unsync1000.h5\")\n",
    "history = gan.fit(x_train, epochs=1, verbose=1, steps_per_epoch=100, \n",
    "                  validation_data=x_test, validation_steps=1, validation_freq=10, callbacks=[tensorboard_callback, cm_callback])"
   ]
  },
  {
   "cell_type": "code",
   "execution_count": 17,
   "metadata": {},
   "outputs": [],
   "source": [
    "gan.save_weights(\"trained_models/unsync1000.h5\")"
   ]
  },
  {
   "cell_type": "markdown",
   "metadata": {},
   "source": [
    "# Demo"
   ]
  },
  {
   "cell_type": "code",
   "execution_count": 18,
   "metadata": {},
   "outputs": [],
   "source": [
    "# test_generate(next(x_test_iter), gan, save=False)"
   ]
  }
 ],
 "metadata": {
  "kernelspec": {
   "display_name": ".venv",
   "language": "python",
   "name": "python3"
  },
  "language_info": {
   "codemirror_mode": {
    "name": "ipython",
    "version": 3
   },
   "file_extension": ".py",
   "mimetype": "text/x-python",
   "name": "python",
   "nbconvert_exporter": "python",
   "pygments_lexer": "ipython3",
   "version": "3.10.12"
  }
 },
 "nbformat": 4,
 "nbformat_minor": 2
}
